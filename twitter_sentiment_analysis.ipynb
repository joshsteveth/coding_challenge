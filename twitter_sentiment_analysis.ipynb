{
 "cells": [
  {
   "cell_type": "code",
   "execution_count": 2,
   "metadata": {},
   "outputs": [
    {
     "ename": "ParserError",
     "evalue": "Error tokenizing data. C error: Expected 4 fields in line 8836, saw 5\n",
     "output_type": "error",
     "traceback": [
      "\u001b[1;31m---------------------------------------------------------------------------\u001b[0m",
      "\u001b[1;31mParserError\u001b[0m                               Traceback (most recent call last)",
      "\u001b[1;32m<ipython-input-2-9151e7d26fa7>\u001b[0m in \u001b[0;36m<module>\u001b[1;34m()\u001b[0m\n\u001b[0;32m      4\u001b[0m \u001b[1;31m#load the csv into dataframe\u001b[0m\u001b[1;33m\u001b[0m\u001b[1;33m\u001b[0m\u001b[0m\n\u001b[0;32m      5\u001b[0m \u001b[0mfileName\u001b[0m \u001b[1;33m=\u001b[0m \u001b[1;34m'SentimentAnalysisDataset.csv'\u001b[0m\u001b[1;33m\u001b[0m\u001b[0m\n\u001b[1;32m----> 6\u001b[1;33m \u001b[0mdf\u001b[0m \u001b[1;33m=\u001b[0m \u001b[0mpd\u001b[0m\u001b[1;33m.\u001b[0m\u001b[0mread_csv\u001b[0m\u001b[1;33m(\u001b[0m\u001b[0mfileName\u001b[0m\u001b[1;33m)\u001b[0m\u001b[1;33m\u001b[0m\u001b[0m\n\u001b[0m\u001b[0;32m      7\u001b[0m \u001b[0mdf\u001b[0m\u001b[1;33m.\u001b[0m\u001b[0mhead\u001b[0m\u001b[1;33m(\u001b[0m\u001b[1;33m)\u001b[0m\u001b[1;33m\u001b[0m\u001b[0m\n",
      "\u001b[1;32m~\\AppData\\Roaming\\Python\\Python36\\site-packages\\pandas\\io\\parsers.py\u001b[0m in \u001b[0;36mparser_f\u001b[1;34m(filepath_or_buffer, sep, delimiter, header, names, index_col, usecols, squeeze, prefix, mangle_dupe_cols, dtype, engine, converters, true_values, false_values, skipinitialspace, skiprows, nrows, na_values, keep_default_na, na_filter, verbose, skip_blank_lines, parse_dates, infer_datetime_format, keep_date_col, date_parser, dayfirst, iterator, chunksize, compression, thousands, decimal, lineterminator, quotechar, quoting, escapechar, comment, encoding, dialect, tupleize_cols, error_bad_lines, warn_bad_lines, skipfooter, doublequote, delim_whitespace, low_memory, memory_map, float_precision)\u001b[0m\n\u001b[0;32m    676\u001b[0m                     skip_blank_lines=skip_blank_lines)\n\u001b[0;32m    677\u001b[0m \u001b[1;33m\u001b[0m\u001b[0m\n\u001b[1;32m--> 678\u001b[1;33m         \u001b[1;32mreturn\u001b[0m \u001b[0m_read\u001b[0m\u001b[1;33m(\u001b[0m\u001b[0mfilepath_or_buffer\u001b[0m\u001b[1;33m,\u001b[0m \u001b[0mkwds\u001b[0m\u001b[1;33m)\u001b[0m\u001b[1;33m\u001b[0m\u001b[0m\n\u001b[0m\u001b[0;32m    679\u001b[0m \u001b[1;33m\u001b[0m\u001b[0m\n\u001b[0;32m    680\u001b[0m     \u001b[0mparser_f\u001b[0m\u001b[1;33m.\u001b[0m\u001b[0m__name__\u001b[0m \u001b[1;33m=\u001b[0m \u001b[0mname\u001b[0m\u001b[1;33m\u001b[0m\u001b[0m\n",
      "\u001b[1;32m~\\AppData\\Roaming\\Python\\Python36\\site-packages\\pandas\\io\\parsers.py\u001b[0m in \u001b[0;36m_read\u001b[1;34m(filepath_or_buffer, kwds)\u001b[0m\n\u001b[0;32m    444\u001b[0m \u001b[1;33m\u001b[0m\u001b[0m\n\u001b[0;32m    445\u001b[0m     \u001b[1;32mtry\u001b[0m\u001b[1;33m:\u001b[0m\u001b[1;33m\u001b[0m\u001b[0m\n\u001b[1;32m--> 446\u001b[1;33m         \u001b[0mdata\u001b[0m \u001b[1;33m=\u001b[0m \u001b[0mparser\u001b[0m\u001b[1;33m.\u001b[0m\u001b[0mread\u001b[0m\u001b[1;33m(\u001b[0m\u001b[0mnrows\u001b[0m\u001b[1;33m)\u001b[0m\u001b[1;33m\u001b[0m\u001b[0m\n\u001b[0m\u001b[0;32m    447\u001b[0m     \u001b[1;32mfinally\u001b[0m\u001b[1;33m:\u001b[0m\u001b[1;33m\u001b[0m\u001b[0m\n\u001b[0;32m    448\u001b[0m         \u001b[0mparser\u001b[0m\u001b[1;33m.\u001b[0m\u001b[0mclose\u001b[0m\u001b[1;33m(\u001b[0m\u001b[1;33m)\u001b[0m\u001b[1;33m\u001b[0m\u001b[0m\n",
      "\u001b[1;32m~\\AppData\\Roaming\\Python\\Python36\\site-packages\\pandas\\io\\parsers.py\u001b[0m in \u001b[0;36mread\u001b[1;34m(self, nrows)\u001b[0m\n\u001b[0;32m   1034\u001b[0m                 \u001b[1;32mraise\u001b[0m \u001b[0mValueError\u001b[0m\u001b[1;33m(\u001b[0m\u001b[1;34m'skipfooter not supported for iteration'\u001b[0m\u001b[1;33m)\u001b[0m\u001b[1;33m\u001b[0m\u001b[0m\n\u001b[0;32m   1035\u001b[0m \u001b[1;33m\u001b[0m\u001b[0m\n\u001b[1;32m-> 1036\u001b[1;33m         \u001b[0mret\u001b[0m \u001b[1;33m=\u001b[0m \u001b[0mself\u001b[0m\u001b[1;33m.\u001b[0m\u001b[0m_engine\u001b[0m\u001b[1;33m.\u001b[0m\u001b[0mread\u001b[0m\u001b[1;33m(\u001b[0m\u001b[0mnrows\u001b[0m\u001b[1;33m)\u001b[0m\u001b[1;33m\u001b[0m\u001b[0m\n\u001b[0m\u001b[0;32m   1037\u001b[0m \u001b[1;33m\u001b[0m\u001b[0m\n\u001b[0;32m   1038\u001b[0m         \u001b[1;31m# May alter columns / col_dict\u001b[0m\u001b[1;33m\u001b[0m\u001b[1;33m\u001b[0m\u001b[0m\n",
      "\u001b[1;32m~\\AppData\\Roaming\\Python\\Python36\\site-packages\\pandas\\io\\parsers.py\u001b[0m in \u001b[0;36mread\u001b[1;34m(self, nrows)\u001b[0m\n\u001b[0;32m   1846\u001b[0m     \u001b[1;32mdef\u001b[0m \u001b[0mread\u001b[0m\u001b[1;33m(\u001b[0m\u001b[0mself\u001b[0m\u001b[1;33m,\u001b[0m \u001b[0mnrows\u001b[0m\u001b[1;33m=\u001b[0m\u001b[1;32mNone\u001b[0m\u001b[1;33m)\u001b[0m\u001b[1;33m:\u001b[0m\u001b[1;33m\u001b[0m\u001b[0m\n\u001b[0;32m   1847\u001b[0m         \u001b[1;32mtry\u001b[0m\u001b[1;33m:\u001b[0m\u001b[1;33m\u001b[0m\u001b[0m\n\u001b[1;32m-> 1848\u001b[1;33m             \u001b[0mdata\u001b[0m \u001b[1;33m=\u001b[0m \u001b[0mself\u001b[0m\u001b[1;33m.\u001b[0m\u001b[0m_reader\u001b[0m\u001b[1;33m.\u001b[0m\u001b[0mread\u001b[0m\u001b[1;33m(\u001b[0m\u001b[0mnrows\u001b[0m\u001b[1;33m)\u001b[0m\u001b[1;33m\u001b[0m\u001b[0m\n\u001b[0m\u001b[0;32m   1849\u001b[0m         \u001b[1;32mexcept\u001b[0m \u001b[0mStopIteration\u001b[0m\u001b[1;33m:\u001b[0m\u001b[1;33m\u001b[0m\u001b[0m\n\u001b[0;32m   1850\u001b[0m             \u001b[1;32mif\u001b[0m \u001b[0mself\u001b[0m\u001b[1;33m.\u001b[0m\u001b[0m_first_chunk\u001b[0m\u001b[1;33m:\u001b[0m\u001b[1;33m\u001b[0m\u001b[0m\n",
      "\u001b[1;32mpandas\\_libs\\parsers.pyx\u001b[0m in \u001b[0;36mpandas._libs.parsers.TextReader.read\u001b[1;34m()\u001b[0m\n",
      "\u001b[1;32mpandas\\_libs\\parsers.pyx\u001b[0m in \u001b[0;36mpandas._libs.parsers.TextReader._read_low_memory\u001b[1;34m()\u001b[0m\n",
      "\u001b[1;32mpandas\\_libs\\parsers.pyx\u001b[0m in \u001b[0;36mpandas._libs.parsers.TextReader._read_rows\u001b[1;34m()\u001b[0m\n",
      "\u001b[1;32mpandas\\_libs\\parsers.pyx\u001b[0m in \u001b[0;36mpandas._libs.parsers.TextReader._tokenize_rows\u001b[1;34m()\u001b[0m\n",
      "\u001b[1;32mpandas\\_libs\\parsers.pyx\u001b[0m in \u001b[0;36mpandas._libs.parsers.raise_parser_error\u001b[1;34m()\u001b[0m\n",
      "\u001b[1;31mParserError\u001b[0m: Error tokenizing data. C error: Expected 4 fields in line 8836, saw 5\n"
     ]
    }
   ],
   "source": [
    "import numpy as np\n",
    "import pandas as pd\n",
    "\n",
    "#load the csv into dataframe\n",
    "fileName = 'SentimentAnalysisDataset.csv'\n",
    "df = pd.read_csv(fileName)\n",
    "df.head()"
   ]
  },
  {
   "cell_type": "code",
   "execution_count": 3,
   "metadata": {},
   "outputs": [],
   "source": [
    "#apparently some of the tweets contain ',' as well (which is not surprising)\n",
    "#so I'm thinking about loading the data manually and then converting them into dataframe later\n",
    "dataList = []\n",
    "columnsName = []\n",
    "with open(fileName, 'r', encoding='utf8') as f:\n",
    "    columnsName = f.readline().split(',')\n",
    "    for line in f:\n",
    "        l = line.split(',')\n",
    "        dataList.append([int(l[0]), int(l[1]), l[2], ''.join(l[3:])])"
   ]
  },
  {
   "cell_type": "code",
   "execution_count": 4,
   "metadata": {},
   "outputs": [],
   "source": [
    "#convert data into dataframe\n",
    "df = pd.DataFrame(dataList)\n",
    "df.columns = ['ItemID', 'Sentiment', 'SentimentSource', 'SentimentText']"
   ]
  },
  {
   "cell_type": "code",
   "execution_count": 103,
   "metadata": {},
   "outputs": [
    {
     "name": "stdout",
     "output_type": "stream",
     "text": [
      "   ItemID  Sentiment SentimentSource  \\\n",
      "0       1          0    Sentiment140   \n",
      "1       2          0    Sentiment140   \n",
      "2       3          1    Sentiment140   \n",
      "3       4          0    Sentiment140   \n",
      "4       5          0    Sentiment140   \n",
      "\n",
      "                                       SentimentText  \n",
      "0                       is so sad for my APL frie...  \n",
      "1                     I missed the New Moon trail...  \n",
      "2                          omg its already 7:30 :O\\n  \n",
      "3            .. Omgaga. Im sooo  im gunna CRy. I'...  \n",
      "4           i think mi bf is cheating on me!!!   ...  \n",
      "<class 'pandas.core.frame.DataFrame'>\n",
      "RangeIndex: 1578627 entries, 0 to 1578626\n",
      "Data columns (total 4 columns):\n",
      "ItemID             1578627 non-null int64\n",
      "Sentiment          1578627 non-null int64\n",
      "SentimentSource    1578627 non-null object\n",
      "SentimentText      1578627 non-null object\n",
      "dtypes: int64(2), object(2)\n",
      "memory usage: 48.2+ MB\n",
      "None\n",
      "             ItemID     Sentiment\n",
      "count  1.578627e+06  1.578627e+06\n",
      "mean   7.893140e+05  5.005521e-01\n",
      "std    4.557105e+05  4.999999e-01\n",
      "min    1.000000e+00  0.000000e+00\n",
      "25%    3.946575e+05  0.000000e+00\n",
      "50%    7.893140e+05  1.000000e+00\n",
      "75%    1.183970e+06  1.000000e+00\n",
      "max    1.578627e+06  1.000000e+00\n"
     ]
    }
   ],
   "source": [
    "print(df.head())\n",
    "print(df.info())\n",
    "print(df.describe())"
   ]
  },
  {
   "cell_type": "code",
   "execution_count": 104,
   "metadata": {},
   "outputs": [
    {
     "name": "stdout",
     "output_type": "stream",
     "text": [
      "<class 'pandas.core.frame.DataFrame'>\n",
      "Int64Index: 790185 entries, 2 to 1578623\n",
      "Data columns (total 4 columns):\n",
      "ItemID             790185 non-null int64\n",
      "Sentiment          790185 non-null int64\n",
      "SentimentSource    790185 non-null object\n",
      "SentimentText      790185 non-null object\n",
      "dtypes: int64(2), object(2)\n",
      "memory usage: 30.1+ MB\n",
      "<class 'pandas.core.frame.DataFrame'>\n",
      "Int64Index: 788442 entries, 0 to 1578626\n",
      "Data columns (total 4 columns):\n",
      "ItemID             788442 non-null int64\n",
      "Sentiment          788442 non-null int64\n",
      "SentimentSource    788442 non-null object\n",
      "SentimentText      788442 non-null object\n",
      "dtypes: int64(2), object(2)\n",
      "memory usage: 30.1+ MB\n"
     ]
    }
   ],
   "source": [
    "#now we want to show the top-10 most positive and negative words\n",
    "#let's separate the data frame into positive and negative ones\n",
    "df_positive = df[df['Sentiment'] == 1]\n",
    "df_negative = df[df['Sentiment'] == 0]\n",
    "\n",
    "df_positive.info()\n",
    "df_negative.info()"
   ]
  },
  {
   "cell_type": "code",
   "execution_count": 5,
   "metadata": {},
   "outputs": [],
   "source": [
    "#find the most frequest word from each data frame\n",
    "\n",
    "#use some features from nltk library\n",
    "from nltk.tokenize import word_tokenize, TweetTokenizer\n",
    "from nltk.stem import WordNetLemmatizer\n",
    "from nltk.corpus import stopwords\n",
    "\n",
    "from collections import Counter\n",
    "\n",
    "#since the data are clearly tweets\n",
    "#we can use the tokenizer, specially built for them\n",
    "#and it should also be beneficial to exclude English stopwords (optional)\n",
    "#finally a lemmatizer\n",
    "twtknzr = TweetTokenizer()\n",
    "englishStopwords = stopwords.words('english')\n",
    "wnLemmatizer = WordNetLemmatizer()\n",
    "\n",
    "def getWordCounter(df, skipStopWords=True):\n",
    "    tweets = list(df.SentimentText)\n",
    "    all_tokens = [twtknzr.tokenize(t) for t in tweets]\n",
    "    \n",
    "    r'''\n",
    "    Do the following preprocessing:\n",
    "    1. turn into lower case\n",
    "    2. consider the alphabet characters only\n",
    "    3. skip the english stopwords (optional)\n",
    "    4. lemmatize the words\n",
    "    '''\n",
    "    \n",
    "    word_list = []\n",
    "    \n",
    "    #make the condition outside of the loop to avoid additional if in every loop\n",
    "    if skipStopWords:\n",
    "        for tokens in all_tokens:\n",
    "            tokens = [t.lower() for t in tokens if t.isalpha()]\n",
    "            tokens = [wnLemmatizer.lemmatize(t) for t in tokens if t not in englishStopwords]\n",
    "\n",
    "            word_list.extend(tokens)\n",
    "    else:\n",
    "        for tokens in all_tokens:\n",
    "            tokens = [wnLemmatizer.lemmatize(t.lower()) for t in tokens if t.isalpha()]\n",
    "            \n",
    "            word_list.extend(tokens)\n",
    "        \n",
    "    return Counter(word_list)\n",
    "        \n",
    "    "
   ]
  },
  {
   "cell_type": "code",
   "execution_count": 108,
   "metadata": {},
   "outputs": [
    {
     "name": "stdout",
     "output_type": "stream",
     "text": [
      "[('i', 294714), ('the', 264120), ('to', 249959), ('a', 218123), ('you', 177109), ('and', 148669), ('it', 132291), ('my', 124909), ('for', 116512), ('is', 108018)]\n",
      "[('i', 470347), ('to', 310991), ('the', 257003), ('a', 199752), ('my', 188551), ('and', 153391), ('it', 145901), ('is', 127069), ('in', 114491), ('for', 98521)]\n"
     ]
    }
   ],
   "source": [
    "#check the top word count without skipping stop words\n",
    "positiveWordCounter = getWordCounter(df_positive, skipStopWords=False)\n",
    "print(positiveWordCounter.most_common(10))\n",
    "negativeWordCounter = getWordCounter(df_negative, skipStopWords=False)\n",
    "print(negativeWordCounter.most_common(10))"
   ]
  },
  {
   "cell_type": "code",
   "execution_count": 43,
   "metadata": {
    "scrolled": true
   },
   "outputs": [
    {
     "name": "stdout",
     "output_type": "stream",
     "text": [
      "[('good', 60611), ('day', 53120), ('love', 50058), ('u', 38625), ('like', 38144), ('get', 37930), ('lol', 35499), ('thanks', 34460), ('time', 33633), ('going', 30503)]\n",
      "[('day', 49233), ('get', 47796), ('go', 47481), ('work', 45295), ('like', 41251), ('today', 37465), ('want', 33633), ('going', 33379), ('got', 32976), ('back', 32532)]\n"
     ]
    }
   ],
   "source": [
    "#they are not very relevant I guess\n",
    "#what if we skip the stop words for fun\n",
    "positiveWordCounter_nostop = getWordCounter(df_positive)\n",
    "print(positiveWordCounter_nostop.most_common(10))\n",
    "negativeWordCounter_nostop = getWordCounter(df_negative)\n",
    "print(negativeWordCounter_nostop.most_common(10))"
   ]
  },
  {
   "cell_type": "code",
   "execution_count": 109,
   "metadata": {},
   "outputs": [
    {
     "name": "stdout",
     "output_type": "stream",
     "text": [
      "[('i', 765061), ('to', 560950), ('the', 521123), ('a', 417875), ('my', 313460), ('and', 302060), ('it', 278192), ('you', 271831), ('is', 235087), ('for', 215033)]\n"
     ]
    }
   ],
   "source": [
    "#how about from the whole dataframe?\n",
    "allWordCounter = getWordCounter(df, skipStopWords=False)\n",
    "print(allWordCounter.most_common(10))"
   ]
  },
  {
   "cell_type": "code",
   "execution_count": 110,
   "metadata": {},
   "outputs": [
    {
     "data": {
      "text/plain": [
       "Text(0.5,1,'log-log Plot of Rank vs Frequency')"
      ]
     },
     "execution_count": 110,
     "metadata": {},
     "output_type": "execute_result"
    },
    {
     "data": {
      "image/png": "[encoded data removed]",
      "text/plain": [
       "<Figure size 432x288 with 1 Axes>"
      ]
     },
     "metadata": {
      "needs_background": "light"
     },
     "output_type": "display_data"
    }
   ],
   "source": [
    "#plot to prove the Zipf's Law\n",
    "import matplotlib.pyplot as plt\n",
    "\n",
    "#n is number of n-first element that we want to see\n",
    "n = 10\n",
    "\n",
    "x = [np.log(i+1) for i in range(n)]\n",
    "\n",
    "y_positive = [np.log(i[1]) for i in positiveWordCounter.most_common(n)]\n",
    "y_negative = [np.log(i[1]) for i in negativeWordCounter.most_common(n)]\n",
    "y_all = [np.log(i[1]) for i in allWordCounter.most_common(n)]\n",
    "\n",
    "fig, ax = plt.subplots()\n",
    "ax.plot(x, y_positive, 'b--', label='Positive Tweets')\n",
    "ax.plot(x, y_negative, 'r--', label='Negative Tweets')\n",
    "ax.plot(x, y_all, 'k', label='All Tweets')\n",
    "\n",
    "legend = ax.legend(loc='best', shadow=True)\n",
    "\n",
    "ax.set_xlabel('log(rank)')\n",
    "ax.set_ylabel('log(frequency)')\n",
    "\n",
    "plt.title('log-log Plot of Rank vs Frequency')\n",
    "\n",
    "#Note: it does look like they are inversely proportional!"
   ]
  },
  {
   "cell_type": "code",
   "execution_count": 49,
   "metadata": {},
   "outputs": [
    {
     "name": "stdout",
     "output_type": "stream",
     "text": [
      "250954\n"
     ]
    }
   ],
   "source": [
    "#CLassification\n",
    "#first let's see how many different words in total do we have\n",
    "print(len(allWordCounter))"
   ]
  },
  {
   "cell_type": "code",
   "execution_count": 18,
   "metadata": {},
   "outputs": [
    {
     "name": "stdout",
     "output_type": "stream",
     "text": [
      "[('day', 102353), ('good', 89449), ('get', 85726), ('like', 79395), ('go', 77439), ('u', 68481), ('love', 67671), ('today', 66738), ('work', 66511), ('time', 64713)]\n",
      "250850\n"
     ]
    }
   ],
   "source": [
    "#that's way too many\n",
    "#I think we'd better off without the stop words since they are less relevant\n",
    "allWordCounter_nostop = getWordCounter(df)\n",
    "print(allWordCounter_nostop.most_common(10))\n",
    "print(len(allWordCounter_nostop))"
   ]
  },
  {
   "cell_type": "code",
   "execution_count": 19,
   "metadata": {},
   "outputs": [
    {
     "name": "stdout",
     "output_type": "stream",
     "text": [
      "[Threshold: 50] #words left: 11007\n",
      "[Threshold: 100] #words left: 7297\n",
      "[Threshold: 250] #words left: 3952\n",
      "[Threshold: 500] #words left: 2448\n",
      "[Threshold: 1000] #words left: 1452\n",
      "[Threshold: 5000] #words left: 372\n",
      "[Threshold: 10000] #words left: 175\n"
     ]
    }
   ],
   "source": [
    "#we have excluded 104 stopwords from the word list\n",
    "#it doesn't look like a great idea to consider all of them though\n",
    "#let's see if we consider only words that occur at least 100 times\n",
    "\n",
    "def limitWordCounter(wordCounter, threshold):\n",
    "    result = {}\n",
    "    for word in wordCounter:\n",
    "        wordCount = wordCounter[word]\n",
    "        if wordCount > threshold:\n",
    "            result[word] = wordCount\n",
    "    return Counter(result)\n",
    "\n",
    "#Let's see how many words are left for different threshold\n",
    "thresholds = [50, 100, 250, 500, 1000, 5000, 10000]\n",
    "for t in thresholds:\n",
    "    newData = limitWordCounter(allWordCounter_nostop, t)\n",
    "    print('[Threshold: {}] #words left: {}'.format(t, len(newData)))"
   ]
  },
  {
   "cell_type": "code",
   "execution_count": 114,
   "metadata": {},
   "outputs": [
    {
     "name": "stdout",
     "output_type": "stream",
     "text": [
      "175\n",
      "['sad', 'friend', 'missed', 'new', 'omg', 'already', 'im', 'get', 'think', 'much', 'work', 'tomorrow', 'tonight', 'today', 'miss', 'thanks', 'day', 'weekend', 'ok', 'way', 'feel', 'right', 'man', 'twitter', 'feeling', 'gonna', 'go', 'well', 'year', 'start', 'happy', 'one', 'see', 'pretty', 'awesome', 'tweet', 'lost', 'something', 'yeah', 'please', 'tell', 'wish', 'could', 'life', 'going', 'like', 'really', 'want', 'sleep', 'hour', 'girl', 'hate', 'live', 'guy', 'sure', 'morning', 'need', 'week', 'dont', 'sick', 'cant', 'yay', 'great', 'time', 'last', 'got', 'someone', 'even', 'say', 'show', 'make', 'look', 'another', 'fun', 'though', 'never', 'love', 'ur', 'u', 'always', 'hurt', 'first', 'night', 'find', 'thought', 'lol', 'wanna', 'home', 'x', 'mean', 'away', 'would', 'sorry', 'take', 'come', 'bed', 'bit', 'watch', 'hope', 'ever', 'let', 'game', 'phone', 'movie', 'guess', 'two', 'cool', 'oh', 'thank', 'soon', 'back', 'damn', 'next', 'help', 'better', 'getting', 'rain', 'summer', 'suck', 'went', 'still', 'people', 'weather', 'bad', 'good', 'know', 'try', 'little', 'watching', 'best', 'hot', 'amazing', 'everyone', 'wait', 'maybe', 'later', 'haha', 'school', 'done', 'thing', 'yes', 'nothing', 'keep', 'early', 'hey', 'lot', 'n', 'song', 'long', 'made', 'nice', 'sound', 'baby', 'big', 'follow', 'working', 'old', 'yet', 'pic', 'party', 'tired', 'ready', 'glad', 'looking', 'bored', 'coming', 'left', 'stuff', 'house', 'finally', 'birthday', 'also', 'trying', 'sun', 'wow']\n"
     ]
    }
   ],
   "source": [
    "#let's try with 175 features and see the result\n",
    "wordList = list(limitWordCounter(allWordCounter_nostop, 10000))\n",
    "print(len(wordList))\n",
    "print(wordList)"
   ]
  },
  {
   "cell_type": "code",
   "execution_count": 24,
   "metadata": {},
   "outputs": [
    {
     "name": "stdout",
     "output_type": "stream",
     "text": [
      "          ItemID  Sentiment SentimentSource  \\\n",
      "726314    726315          1    Sentiment140   \n",
      "700733    700734          0    Sentiment140   \n",
      "1364809  1364810          0    Sentiment140   \n",
      "70231      70232          0    Sentiment140   \n",
      "508934    508935          1    Sentiment140   \n",
      "\n",
      "                                             SentimentText  \n",
      "726314   \"@DavidArchie I was just listening to Somebody...  \n",
      "700733   Endlessly fascinated by the dual engine monito...  \n",
      "1364809  4 classes and 3 finals until freedom!!! Cannot...  \n",
      "70231    @BurritoBandita yay i'm glad she's looking mor...  \n",
      "508934   @thalonelystoner I got it today!!! Omg it was ...  \n",
      "<class 'pandas.core.frame.DataFrame'>\n",
      "Int64Index: 157863 entries, 726314 to 384334\n",
      "Data columns (total 4 columns):\n",
      "ItemID             157863 non-null int64\n",
      "Sentiment          157863 non-null int64\n",
      "SentimentSource    157863 non-null object\n",
      "SentimentText      157863 non-null object\n",
      "dtypes: int64(2), object(2)\n",
      "memory usage: 6.0+ MB\n",
      "None\n",
      "             ItemID      Sentiment\n",
      "count  1.578630e+05  157863.000000\n",
      "mean   7.906422e+05       0.504437\n",
      "std    4.557488e+05       0.499982\n",
      "min    3.000000e+01       0.000000\n",
      "25%    3.965645e+05       0.000000\n",
      "50%    7.887120e+05       1.000000\n",
      "75%    1.187200e+06       1.000000\n",
      "max    1.578618e+06       1.000000\n"
     ]
    }
   ],
   "source": [
    "#then I want to transform our data \n",
    "#each into a list with length = len(wordList) with value = number of occurence\n",
    "#the idea is quite similar with predicting picture\n",
    "#it might take a while since we have 1.5 mio. rows\n",
    "#since my memory can't handle all of them, let's sample\n",
    "#~150k entries seem decent amount of data\n",
    "\n",
    "sampleSize = 0.1\n",
    "df_sampled = df.sample(frac=sampleSize, random_state=42)\n",
    "\n",
    "print(df_sampled.head())\n",
    "print(df_sampled.info())\n",
    "print(df_sampled.describe())"
   ]
  },
  {
   "cell_type": "code",
   "execution_count": 25,
   "metadata": {},
   "outputs": [
    {
     "name": "stdout",
     "output_type": "stream",
     "text": [
      "[('day', 10371), ('good', 8996), ('get', 8408), ('like', 8162), ('go', 7892), ('u', 6903), ('love', 6812), ('work', 6676), ('today', 6645), ('time', 6594)]\n",
      "61144\n"
     ]
    }
   ],
   "source": [
    "#also update the word counter\n",
    "allWordCounter_sampled_nostop = getWordCounter(df_sampled)\n",
    "print(allWordCounter_sampled_nostop.most_common(10))\n",
    "print(len(allWordCounter_sampled_nostop))"
   ]
  },
  {
   "cell_type": "code",
   "execution_count": 47,
   "metadata": {},
   "outputs": [
    {
     "name": "stdout",
     "output_type": "stream",
     "text": [
      "177\n",
      "['one', 'awesome', 'song', 'thought', 'sorry', 'next', 'wait', 'summer', 'looking', 'work', 'know', 'need', 'yay', 'glad', 'like', 'got', 'today', 'omg', 'lol', 'trying', 'hope', 'make', 'feel', 'bad', 'call', 'damn', 'well', 'go', 'yes', 'lot', 'birthday', 'sound', 'amazing', 'would', 'good', 'sure', 'great', 'x', 'working', 'show', 'week', 'way', 'oh', 'tweet', 'maybe', 'day', 'back', 'best', 'ever', 'thanks', 'finally', 'hot', 'last', 'two', 'friend', 'guess', 'fun', 'get', 'find', 'someone', 'want', 'much', 'right', 'hurt', 'away', 'girl', 'actually', 'happy', 'love', 'wish', 'keep', 'gonna', 'come', 'tired', 'bed', 'cant', 'sleep', 'really', 'night', 'see', 'pretty', 'something', 'everyone', 'movie', 'w', 'party', 'never', 'home', 'house', 'still', 'sick', 'though', 'morning', 'let', 'stuff', 'tonight', 'think', 'could', 'people', 'help', 'even', 'twitter', 'little', 'already', 'time', 'miss', 'watching', 'follow', 'going', 'yeah', 'getting', 'done', 'yet', 'watch', 'u', 'always', 'say', 'ok', 'nice', 'cool', 'take', 'pic', 'ur', 'new', 'school', 'hate', 'feeling', 'bit', 'better', 'made', 'guy', 'thank', 'look', 'hey', 'big', 'coming', 'soon', 'im', 'sad', 'life', 'weekend', 'man', 'n', 'early', 'mean', 'tomorrow', 'haha', 'please', 'ready', 'tell', 'long', 'try', 'wow', 'rain', 'phone', 'start', 'another', 'thing', 'wanna', 'weather', 'lost', 'dont', 'also', 'play', 'hour', 'nothing', 'left', 'went', 'baby', 'live', 'year', 'game', 'old', 'missed', 'suck', 'first', 'sun']\n"
     ]
    }
   ],
   "source": [
    "#update wordList based on sampled data frame\n",
    "wordList = list(limitWordCounter(allWordCounter_sampled_nostop, 1000))\n",
    "print(len(wordList))\n",
    "print(wordList)"
   ]
  },
  {
   "cell_type": "code",
   "execution_count": 21,
   "metadata": {},
   "outputs": [],
   "source": [
    "#save lemmatized tokens\n",
    "tweets = list(df_sampled.SentimentText)\n",
    "allTokens = [twtknzr.tokenize(t) for t in tweets]\n",
    "lemmatizedTokens = [[wnLemmatizer.lemmatize(t.lower()) for t in tokens if t.isalpha()] for tokens in allTokens]"
   ]
  },
  {
   "cell_type": "code",
   "execution_count": 34,
   "metadata": {},
   "outputs": [
    {
     "name": "stdout",
     "output_type": "stream",
     "text": [
      "(157863, 177)\n",
      "(157863, 2)\n"
     ]
    }
   ],
   "source": [
    "#create the (sparse) data of all words we want to analyze\n",
    "X = []\n",
    "for tokens in lemmatizedTokens:\n",
    "    row = [tokens.count(w) for w in wordList]\n",
    "    X.append(row)\n",
    "\n",
    "X = np.array(X)\n",
    "print(X.shape)\n",
    "\n",
    "#as for the classification result, we have the sentiment column\n",
    "from keras.utils import np_utils\n",
    "\n",
    "y = np_utils.to_categorical(df_sampled.Sentiment)\n",
    "print(y.shape)"
   ]
  },
  {
   "cell_type": "code",
   "execution_count": 35,
   "metadata": {},
   "outputs": [
    {
     "name": "stdout",
     "output_type": "stream",
     "text": [
      "Train on 142076 samples, validate on 15787 samples\n",
      "Epoch 1/5\n",
      " - 3s - loss: 0.5932 - acc: 0.6700 - val_loss: 0.5807 - val_acc: 0.6859\n",
      "Epoch 2/5\n",
      " - 2s - loss: 0.5797 - acc: 0.6806 - val_loss: 0.5783 - val_acc: 0.6812\n",
      "Epoch 3/5\n",
      " - 2s - loss: 0.5733 - acc: 0.6860 - val_loss: 0.5783 - val_acc: 0.6851\n",
      "Epoch 4/5\n",
      " - 2s - loss: 0.5671 - acc: 0.6907 - val_loss: 0.5798 - val_acc: 0.6810\n",
      "Epoch 5/5\n",
      " - 2s - loss: 0.5609 - acc: 0.6945 - val_loss: 0.5796 - val_acc: 0.6836\n"
     ]
    },
    {
     "data": {
      "text/plain": [
       "<keras.callbacks.History at 0x21c4f6de6d8>"
      ]
     },
     "execution_count": 35,
     "metadata": {},
     "output_type": "execute_result"
    }
   ],
   "source": [
    "#create deep learning model using keras\n",
    "from keras.models import Sequential\n",
    "from keras.layers import Dense\n",
    "\n",
    "num_features = X.shape[1]\n",
    "\n",
    "model = Sequential()\n",
    "#add the first hidden layer\n",
    "model.add(Dense(num_features, activation='relu', input_dim=num_features,\n",
    "               kernel_initializer='normal'))\n",
    "\n",
    "#add the output layer\n",
    "model.add(Dense(2, activation='softmax', kernel_initializer='normal'))\n",
    "\n",
    "#compile the model\n",
    "model.compile(optimizer='adam', loss='categorical_crossentropy',\n",
    "             metrics=['accuracy'])\n",
    "\n",
    "#try to fit the model and see the result\n",
    "validationSplit = 0.1\n",
    "batchSize = 100\n",
    "\n",
    "model.fit(X, y, validation_split=validationSplit,\n",
    "         batch_size=batchSize, epochs=5, verbose=2)\n",
    "\n",
    "#accuracy is ~68%"
   ]
  },
  {
   "cell_type": "code",
   "execution_count": 60,
   "metadata": {},
   "outputs": [
    {
     "name": "stdout",
     "output_type": "stream",
     "text": [
      "2427\n",
      "['listening', 'somebody', 'one', 'awesome', 'song', 'thought', 'put', 'reminds', 'fail', 'sorry', 'next', 'class', 'final', 'cannot', 'wait', 'summer', 'looking', 'forward', 'work', 'know', 'need', 'yay', 'glad', 'like', 'boo', 'ticket', 'got', 'today', 'omg', 'lol', 'fair', 'traffic', 'jam', 'trying', 'rose', 'hope', 'make', 'feel', 'bad', 'many', 'country', 'number', 'call', 'damn', 'well', 'go', 'yes', 'lot', 'space', 'birthday', 'sound', 'amazing', 'tea', 'would', 'ny', 'good', 'luck', 'sure', 'great', 'x', 'bos', 'bought', 'lunch', 'working', 'macbook', 'show', 'might', 'air', 'week', 'way', 'oh', 'stupid', 'pen', 'seeing', 'half', 'tweet', 'maybe', 'issue', 'day', 'till', 'mi', 'bday', 'either', 'back', 'tho', 'best', 'parent', 'ever', 'thanks', 'mom', 'dad', 'finally', 'geek', 'glass', 'hot', 'topic', 'last', 'pair', 'two', 'friend', 'fighting', 'far', 'guess', 'thats', 'plus', 'whoop', 'forgot', 'send', 'tweeted', 'normal', 'xd', 'anyways', 'thursday', 'fun', 'get', 'worry', 'find', 'someone', 'want', 'much', 'goin', 'right', 'hurt', 'broke', 'gone', 'leaving', 'charge', 'away', 'boy', 'girl', 'believe', 'senior', 'prom', 'actually', 'cake', 'death', 'quote', 'dress', 'kill', 'happy', 'matt', 'love', 'wish', 'stop', 'loud', 'sex', 'keep', 'thinking', 'gonna', 'come', 'tired', 'sweet', 'fall', 'eye', 'water', 'bed', 'cant', 'sleep', 'really', 'wanted', 'night', 'david', 'see', 'pretty', 'message', 'service', 'hung', 'something', 'everyone', 'movie', 'kid', 'age', 'interested', 'saw', 'uk', 'cheer', 'beautiful', 'w', 'party', 'bbq', 'story', 'melbourne', 'never', 'hmmmm', 'okay', 'able', 'money', 'home', 'grandparent', 'house', 'still', 'sick', 'inspired', 'though', 'morning', 'sunny', 'let', 'hear', 'blog', 'stuff', 'blast', 'tonight', 'hahaha', 'aww', 'definitely', 'hmm', 'think', 'else', 'could', 'realized', 'friday', 'turning', 'idol', 'turn', 'obsessed', 'anything', 'argh', 'people', 'task', 'impossible', 'search', 'help', 'surprise', 'minute', 'even', 'twitter', 'cause', 'isnt', 'pool', 'soooo', 'little', 'red', 'hopefully', 'anniversary', 'already', 'hungry', 'type', 'feed', 'taking', 'care', 'place', 'time', 'prolly', 'bite', 'anyway', 'brilliant', 'plan', 'screwed', 'couple', 'german', 'almost', 'nobody', 'online', 'info', 'miss', 'since', 'subject', 'watching', 'club', 'laugh', 'follow', 'simple', 'lake', 'yesterday', 'going', 'yeah', 'planning', 'getting', 'challenge', 'done', 'sir', 'seen', 'excellent', 'loved', 'button', 'cuz', 'close', 'god', 'holy', 'crap', 'slept', 'hella', 'hard', 'waking', 'c', 'p', 'error', 'code', 'draw', 'wrote', 'lil', 'wild', 'wing', 'yet', 'drinking', 'light', 'lame', 'use', 'dumb', 'character', 'limit', 'watch', 'andy', 'congratulation', 'order', 'u', 'sux', 'head', 'ache', 'there', 'always', 'pride', 'tv', 'genius', 'say', 'user', 'ok', 'hoping', 'free', 'somewhere', 'theme', 'found', 'nice', 'dog', 'event', 'cool', 'take', 'pic', 'cat', 'office', 'chair', 'second', 'ur', 'new', 'replied', 'hun', 'true', 'copy', 'link', 'school', 'field', 'world', 'ahead', 'jealous', 'north', 'texas', 'august', 'least', 'bath', 'garden', 'tan', 'apparently', 'hate', 'em', 'jus', 'hangover', 'tooo', 'funny', 'perfect', 'dream', 'jonas', 'brother', 'woke', 'grrr', 'feeling', 'bit', 'better', 'heavy', 'catch', 'homework', 'made', 'r', 'sleeping', 'universe', 'kind', 'weird', 'making', 'midnight', 'hospital', 'trip', 'guy', 'radio', 'thank', 'soo', 'singing', 'special', 'treat', 'k', 'look', 'letting', 'hey', 'big', 'as', 'match', 'covered', 'cream', 'stick', 'together', 'smile', 'coming', 'whats', 'â', 'hit', 'driving', 'test', 'soon', 'tooth', 'fam', 'im', 'cu', 'sad', 'bored', 'update', 'fb', 'download', 'life', 'star', 'weekend', 'gunna', 'major', 'craving', 'entire', 'cd', 'wishing', 'needed', 'buy', 'finish', 'man', 'n', 'graduation', 'saturday', 'worked', 'fuckin', 'graduate', 'dammit', 'book', 'flight', 'bring', 'cry', 'spell', 'probably', 'early', 'monday', 'apartment', 'mood', 'sigh', 'grab', 'coffee', 'hee', 'crack', 'sort', 'design', 'el', 'sunday', 'btw', 'ah', 'page', 'video', 'voice', 'sharing', 'stole', 'lived', 'california', 'skool', 'quit', 'lookin', 'xx', 'lmfao', 'fool', 'snack', 'mad', 'giving', 'cute', 'ed', 'rest', 'peace', 'sooo', 'mean', 'save', 'computer', 'crashed', 'happens', 'tomorrow', 'everything', 'confusing', 'afternoon', 'remember', 'husband', 'instead', 'spending', 'haha', 'tummy', 'fast', 'food', 'using', 'contest', 'please', 'email', 'line', 'ready', 'lawn', 'celebrate', 'fashion', 'tried', 'cnt', 'shit', 'killing', 'tom', 'drop', 'add', 'setting', 'handle', 'walking', 'return', 'bottle', 'tell', 'meet', 'long', 'england', 'laying', 'music', 'reading', 'wedding', 'wake', 'later', 'fault', 'chat', 'suddenly', 'offline', 'internet', 'york', 'photo', 'jordan', 'said', 'shirt', 'football', 'training', 'season', 'playing', 'bye', 'missing', 'million', 'la', 'eating', 'brunch', 'trick', 'appreciated', 'yo', 'eat', 'mexico', 'try', 'writing', 'wow', 'harry', 'swim', 'history', 'doctor', 'closed', 'door', 'finger', 'lucky', 'warm', 'enough', 'came', 'april', 'give', 'rather', 'wed', 'post', 'site', 'inspiration', 'rude', 'following', 'que', 'wondering', 'b', 'photoshop', 'tour', 'seriously', 'reason', 'exam', 'yup', 'spider', 'na', 'whoa', 'j', 'heard', 'row', 'updating', 'without', 'part', 'couch', 'loose', 'pain', 'babe', 'france', 'supposed', 'degree', 'tuesday', 'rain', 'drive', 'hr', 'shoot', 'graduating', 'chicago', 'account', 'wine', 'camera', 'ad', 'picture', 'nd', 'broken', 'phone', 'vids', 'listen', 'moon', 'course', 'start', 'gave', 'another', 'chance', 'case', 'incredible', 'comin', 'create', 'ya', 'june', 'busy', 'month', 'green', 'headache', 'used', 'nature', 'oooh', 'noooo', 'team', 'thing', 'wanna', 'worse', 'pull', 'hair', 'hi', 'fly', 'paper', 'bomb', 'coz', 'cut', 'short', 'canceled', 'ended', 'chocolate', 'enjoying', 'sister', 'niece', 'considering', 'buying', 'tweetie', 'iphone', 'feature', 'twice', 'florida', 'enjoy', 'lady', 'visit', 'gotta', 'join', 'kept', 'texting', 'hell', 'yea', 'aint', 'scared', 'lmao', 'pm', 'talk', 'orange', 'flower', 'thunder', 'weather', 'article', 'unfortunately', 'response', 'content', 'lost', 'town', 'dont', 'freak', 'answer', 'practice', 'dm', 'job', 'interview', 'official', 'boat', 'chill', 'calling', 'beauty', 'college', 'word', 'invite', 'wear', 'promise', 'nope', 'easier', 'juice', 'allowed', 'track', 'asked', 'palm', 'coast', 'atleast', 'thx', 'myspace', 'comment', 'started', 'rich', 'depressing', 'sydney', 'king', 'island', 'st', 'fest', 'also', 'mexican', 'hat', 'dance', 'past', 'taste', 'moving', 'til', 'gorgeous', 'starbucks', 'car', 'window', 'full', 'awake', 'bb', 'ily', 'current', 'hehe', 'nah', 'daily', 'play', 'hour', 'seems', 'stay', 'nothing', 'gettin', 'm', 'moment', 'set', 'change', 'awwww', 'episode', 'hill', 'lauren', 'shower', 'fell', 'asleep', 'figure', 'album', 'woo', 'face', 'nail', 'naked', 'allow', 'talking', 'ebay', 'math', 'review', 'cramp', 'mention', 'left', 'read', 'typical', 'h', 'discovered', 'vet', 'went', 'network', 'may', 'dude', 'liked', 'cookie', 'must', 'looked', 'profile', 'kinda', 'disappointed', 'ride', 'baby', 'family', 'congrats', 'drama', 'high', 'sea', 'praying', 'learn', 'speak', 'spanish', 'stopped', 'alright', 'drunk', 'nightmare', 'heart', 'super', 'alot', 'raining', 'via', 'stuck', 'rock', 'swine', 'flu', 'die', 'jean', 'shoe', 'share', 'ala', 'anyone', 'except', 'smith', 'rip', 'mass', 'yah', 'drove', 'group', 'married', 'present', 'leave', 'alone', 'sugar', 'exciting', 'opening', 'interesting', 'art', 'terrible', 'pa', 'buddy', 'pick', 'wednesday', 'likely', 'sleepy', 'ooh', 'waiting', 'f', 'strawberry', 'huge', 'teeth', 'mark', 'write', 'point', 'donut', 'mother', 'dnt', 'living', 'australia', 'ive', 'scotland', 'ask', 'mum', 'live', 'city', 'london', 'shot', 'chatting', 'clean', 'sheet', 'bedtime', 'dinner', 'starting', 'bread', 'whether', 'nearly', 'offer', 'including', 'mind', 'relax', 'pouring', 'outside', 'taken', 'retweet', 'watched', 'ending', 'massive', 'rate', 'behind', 'burn', 'follower', 'bank', 'holiday', 'hello', 'side', 'screen', 'folk', 'year', 'jersey', 'jack', 'black', 'diet', 'totally', 'barely', 'bet', 'keyboard', 'welcome', 'vip', 'stream', 'sometimes', 'learned', 'lesson', 'booo', 'min', 'dressed', 'hilarious', 'egg', 'demo', 'script', 'price', 'installed', 'nervous', 'apps', 'guilty', 'pleasure', 'mess', 'wonder', 'bubble', 'mo', 'greatest', 'game', 'finding', 'matter', 'film', 'concert', 'crossed', 'front', 'tix', 'otherwise', 'section', 'twittering', 'driver', 'burnt', 'hold', 'veggie', 'white', 'honey', 'ice', 'spam', 'smh', 'cousin', 'piece', 'lie', 'obviously', 'study', 'appreciate', 'delayed', 'safe', 'travel', 'lately', 'quality', 'proud', 'giant', 'inside', 'mouth', 'growing', 'lip', 'plane', 'train', 'bus', 'headed', 'goodness', 'called', 'wrong', 'cold', 'officially', 'fan', 'stayed', 'woohoo', 'three', 'old', 'riding', 'gotten', 'swear', 'seem', 'bug', 'around', 'dang', 'running', 'wife', 'text', 'loving', 'check', 'dear', 'move', 'hubby', 'le', 'heyy', 'boyfriend', 'end', 'hehehe', 'cross', 'worst', 'gift', 'cooky', 'pop', 'doubt', 'worried', 'fine', 'ugly', 'rained', 'festival', 'nick', 'hahahaha', 'happened', 'mac', 'whatever', 'missed', 'suck', 'business', 'ugh', 'played', 'hahah', 'happen', 'liking', 'access', 'salad', 'crazy', 'usual', 'evening', 'confused', 'library', 'excited', 'finale', 'restaurant', 'facebook', 'seattle', 'awful', 'cup', 'mike', 'fucking', 'ruin', 'sold', 'bathroom', 'filled', 'ohhh', 'ray', 'told', 'agree', 'spend', 'cash', 'card', 'print', 'guitar', 'dan', 'wonderful', 'lose', 'every', 'ring', 'power', 'lonely', 'thnx', 'east', 'block', 'bro', 'fridge', 'empty', 'plant', 'shes', 'ear', 'poor', 'ahhh', 'role', 'model', 'longest', 'saved', 'lord', 'alive', 'dead', 'tweeps', 'cheese', 'delicious', 'currently', 'pay', 'hotel', 'different', 'afraid', 'blue', 'sky', 'breakfast', 'log', 'stress', 'rid', 'foot', 'sore', 'mine', 'company', 'received', 'five', 'gosh', 'horrible', 'epic', 'focus', 'putting', 'shop', 'accident', 'studying', 'national', 'pre', 'blah', 'ahaha', 'couldnt', 'title', 'quite', 'slow', 'blessed', 'goodnight', 'hm', 'store', 'break', 'flash', 'goodmorning', 'burning', 'desk', 'um', 'didnt', 'alcohol', 'kick', 'quickly', 'america', 'pink', 'bowling', 'apple', 'child', 'steal', 'app', 'period', 'george', 'social', 'medium', 'fri', 'expected', 'complete', 'admit', 'sometime', 'ty', 'first', 'airport', 'l', 'body', 'landed', 'luv', 'jb', 'throw', 'worth', 'wii', 'connect', 'wtf', 'top', 'suit', 'longer', 'wolverine', 'brain', 'uni', 'assignment', 'washing', 'clothes', 'wanting', 'ohh', 'yep', 'mon', 'exactly', 'hah', 'steve', 'award', 'win', 'taylor', 'spirit', 'ben', 'hoo', 'person', 'cuddle', 'board', 'news', 'within', 'trouble', 'continue', 'despite', 'fact', 'extremely', 'heading', 'ill', 'xbox', 'conference', 'japanese', 'india', 'health', 'race', 'chilling', 'bean', 'direct', 'keeping', 'quiet', 'idea', 'loser', 'miley', 'guessing', 'comedy', 'dvd', 'blood', 'brand', 'earlier', 'pc', 'correct', 'soup', 'bowl', 'def', 'took', 'player', 'bitch', 'late', 'actual', 'sense', 'understand', 'earth', 'reply', 'skill', 'strange', 'fuck', 'sunshine', 'state', 'sunburn', 'ow', 'ti', 'walk', 'fire', 'alarm', 'decide', 'anymore', 'sell', 'trek', 'mix', 'perhaps', 'park', 'fml', 'hug', 'brownie', 'usually', 'ignore', 'run', 'dj', 'milk', 'essay', 'due', 'urgh', 'pls', 'ish', 'coke', 'youu', 'heh', 'ppl', 'xoxo', 'laptop', 'original', 'small', 'speaking', 'easy', 'french', 'van', 'pub', 'wave', 'revising', 'license', 'planned', 'downloading', 'checked', 'winning', 'rice', 'delivery', 'nyc', 'tech', 'abt', 'austin', 'station', 'signed', 'chicken', 'paint', 'storm', 'fix', 'possibly', 'annoying', 'sale', 'frozen', 'possible', 'picked', 'serious', 'dr', 'ø', 'ù', 'imma', 'beat', 'buck', 'ago', 'sign', 'fever', 'hall', 'cancelled', 'peep', 'lazy', 'huh', 'preparing', 'tape', 'parade', 'center', 'telling', 'beach', 'fruit', 'recently', 'deserve', 'cop', 'kate', 'twitterverse', 'g', 'britney', 'tryin', 'version', 'fantastic', 'editing', 'rough', 'yr', 'expensive', 'badly', 'youtube', 'puppy', 'workin', 'posted', 'bigger', 'often', 'hang', 'mile', 'avatar', 'mini', 'ol', 'soul', 'blessing', 'whole', 'nite', 'name', 'da', 'wont', 'ahhhh', 'tough', 'workout', 'strong', 'healthy', 'ha', 'locked', 'mosquito', 'laundry', 'guest', 'bedroom', 'lovely', 'aswell', 'teach', 'land', 'throwing', 'church', 'burned', 'saying', 'died', 'whenever', 'fancy', 'he', 'japan', 'annoyed', 'gross', 'google', 'doc', 'energy', 'helping', 'spread', 'addicted', 'camping', 'band', 'secret', 'blow', 'become', 'problem', 'grad', 'upset', 'fox', 'vote', 'failed', 'comfy', 'knew', 'mornin', 'doin', 'thinkin', 'met', 'trust', 'tht', 'throat', 'recommendation', 'tattoo', 'session', 'spain', 'gym', 'wat', 'forget', 'posting', 'round', 'bunch', 'pack', 'bag', 'fabulous', 'tag', 'ac', 'awe', 'note', 'itunes', 'completely', 'large', 'john', 'interest', 'grey', 'choose', 'wearing', 'tiny', 'although', 'ate', 'real', 'hurting', 'nap', 'color', 'fat', 'twin', 'bless', 'boston', 'kno', 'sitting', 'attack', 'rubbish', 'yum', 'favorite', 'cough', 'marathon', 'channel', 'blocked', 'men', 'cleaning', 'room', 'winter', 'indeed', 'freakin', 'revise', 'atm', 'e', 'idk', 'txt', 'alex', 'listened', 'according', 'smell', 'mmm', 'fight', 'truly', 'kicked', 'stand', 'aw', 'grade', 'mr', 'monster', 'v', 'beta', 'id', 'teacher', 'bio', 'wit', 'evil', 'daddy', 'goodbye', 'cavs', 'skin', 'machine', 'doesnt', 'lack', 'drink', 'forever', 'list', 'web', 'browser', 'address', 'pity', 'middle', 'museum', 'mobile', 'properly', 'bike', 'along', 'sing', 'website', 'mail', 'open', 'wisdom', 'revision', 'stock', 'addiction', 'ghost', 'adventure', 'tonite', 'turned', 'nowhere', 'shut', 'son', 'asking', 'atl', 'personal', 'ipod', 'hand', 'bout', 'pas', 'hurry', 'oops', 'deleted', 'downloaded', 'susan', 'talent', 'angel', 'boring', 'finished', 'painting', 'awww', 'deal', 'bar', 'low', 'upload', 'shall', 'adorable', 'mate', 'cried', 'score', 'poo', 'quick', 'nasty', 'infection', 'nose', 'meeting', 'wen', 'attention', 'conversation', 'changed', 'demi', 'packing', 'realize', 'building', 'purple', 'dollar', 'darn', 'ridiculous', 'arrived', 'sun', 'shining', 'si', 'staying', 'girlfriend', 'kim', 'talked', 'gossip', 'lakers', 'dark', 'force', 'joy', 'ran', 'noodle', 'research', 'toast', 'touch', 'pet', 'background', 'sadly', 'key', 'common', 'spent', 'crashing', 'xo', 'absolutely', 'father', 'gear', 'spring', 'tweeting', 'tweetdeck', 'aim', 'dry', 'wifi', 'nut', 'style', 'winner', 'spot', 'tha', 'kitten', 'clear', 'aha', 'self', 'master', 'rainy', 'michael', 'threw', 'hannah', 'leg', 'awhile', 'gas', 'co', 'public', 'yuck', 'bff', 'ryan', 'goood', 'road', 'miami', 'nooo', 'havent', 'meant', 'suppose', 'heat', 'twit', 'happiness', 'rise', 'ton', 'helped', 'install', 'ff', 'gig', 'control', 'germany', 'kicking', 'ep', 'walked', 'ftw', 'smart', 'report', 'wet', 'pant', 'however', 'thru', 'scare', 'four', 'schedule', 'odd', 'cyrus', 'cereal', 'felt', 'chris', 'court', 'lab', 'sit', 'cooking', 'chest', 'th', 'sims', 'hayfever', 'beginning', 'meh', 'tongue', 'xxx', 'fellow', 'searching', 'everybody', 'miserable', 'bang', 'south', 'bf', 'blackberry', 'followed', 'banana', 'pancake', 'rent', 'monkey', 'disney', 'beer', 'clue', 'seat', 'shift', 'learning', 'biggest', 'local', 'magic', 'wooo', 'passed', 'wind', 'silly', 'ash', 'trailer', 'question', 'sat', 'dc', 'thurs', 'tbh', 'mostly', 'july', 'client', 'fill', 'babysitting', 'cloud', 'relaxing', 'ng', 'skype', 'ughh', 'kitchen', 'excuse', 'pizza', 'mountain', 'plz', 'tip', 'contact', 'dancing', 'downtown', 'young', 'mentioned', 'screaming', 'remembered', 'twilight', 'third', 'famous', 'drug', 'italy', 'street', 'onto', 'twitpic', 'kiss', 'europe', 'daughter', 'apt', 'brazil', 'per', 'expect', 'hmmm', 'jon', 'ho', 'step', 'fried', 'omfg', 'freaking', 'simply', 'camp', 'bloody', 'happening', 'decided', 'fixed', 'awh', 'drank', 'fully', 'near', 'clock', 'crash', 'fear', 'bright', 'experience', 'mall', 'enjoyed', 'tune', 'reality', 'skinny', 'heel', 'older', 'danny', 'canada', 'english', 'leaf', 'single', 'mtv', 'breaking', 'angry', 'mistake', 'chinese', 'potter', 'toronto', 'view', 'yu', 'goal', 'updated', 'o', 'mm', 'agreed', 'ouch', 'grand', 'mouse', 'shame', 'dat', 'shopping', 'battery', 'explain', 'dunno', 'none', 'moved', 'wicked', 'eh', 'visiting', 'voting', 'hanging', 'usa', 'painful', 'bothered', 'bc', 'scene', 'connection', 'image', 'mama', 'known', 'net', 'gloomy', 'others', 'release', 'peter', 'cell', 'random', 'grass', 'icon', 'fab', 'joe', 'oil', 'truck', 'package', 'wasted', 'bacon', 'decent', 'knee', 'voted', 'rule', 'noise', 'fav', 'doll', 'conan', 'butt', 'neighbor', 'support', 'nighty', 'crappy', 'system', 'gay', 'bone', 'al', 'closer', 'total', 'fry', 'added', 'target', 'sucked', 'afford', 'yall', 'main', 'sadness', 'sexy', 'fresh', 'choice', 'literally', 'passing', 'cafe', 'sushi', 'science', 'freezing', 'bummer', 'meal', 'count', 'bah', 'rob', 'prefer', 'especially', 'pressure', 'closing', 'standing', 'click', 'sent', 'philippine', 'aka', 'table', 'arm', 'software', 'somehow', 'partner', 'ooo', 'build', 'ca', 'golf', 'basically', 'picnic', 'effort', 'bother', 'panda', 'idiot', 'signing', 'iâ', 'ball', 'careful', 'begin', 'lovin', 'future', 'toy', 'favourite', 'starving', 'ð', 'ñ', 'stressed', 'creative', 'fed', 'horse', 'farrah', 'watchin', 'stomach', 'shout', 'sf', 'trending', 'dropped', 'extra', 'dentist', 'size', 'sooooo', 'result', 'language', 'migraine', 'ahh', 'notice', 'series', 'cruise', 'faster', 'date', 'curious', 'youre', 'ankle', 'hav', 'given', 'load', 'killer', 'desktop', 'memory', 'wash', 'fish', 'chip', 'transformer', 'baseball', 'roll', 'tony', 'outta', 'havin', 'private', 'frm', 'thanx', 'map', 'flat', 'west', 'difficult', 'hearing', 'member', 'kidding', 'massage', 'slowly', 'cover', 'six', 'etc', 'human', 'queen', 'cable', 'candy', 'blame', 'stage', 'cancer', 'flying', 'form', 'mommy', 'smiling', 'dying', 'shitty', 'animal', 'chuck', 'vacation', 'killed', 'advice', 'noticed', 'hawaii', 'bay', 'counting', 'uncle', 'attend', 'imagine', 'yeh', 'uh', 'forum', 'bunny', 'box', 'lying', 'slightly', 'cast', 'firefox', 'tight', 'success', 'pillow', 'fucked', 'cinema', 'exhausted', 'cancel', 'wall', 'ima', 'changing', 'sarah', 'hows', 'piano', 'sudden', 'aunt', 'wouldnt', 'waste', 'pound', 'neck', 'magazine', 'hitting', 'ocean', 'chapter', 'weight', 'respond', 'logo', 'bell', 'ten', 'sry', 'jk', 'brown', 'cupcake', 'suggestion', 'sweetie', 'presentation', 'ashley', 'wee', 'yummy', 'deep', 'cook', 'joke', 'bum', 'fave', 'figured', 'bird', 'american', 'reminded', 'woman', 'upgrade', 'ireland', 'september', 'saving', 'checking', 'student', 'honest', 'mmmm', 'showing', 'hardly', 'zoo', 'easily', 'stone', 'gold', 'comic', 'crowd', 'rainbow', 'colour', 'anywhere', 'ta', 'tim', 'montana', 'shoulder', 'latest', 'competition', 'fit', 'hd', 'clip', 'duty', 'ruined', 'cost', 'robert', 'paid', 'bottom', 'pissed', 'bummed', 'repeat', 'losing', 'impressed', 'bill', 'vinci', 'james', 'chillin', 'gaga', 'poster', 'credit', 'swollen', 'pot', 'everyday', 'knowing', 'soooooo', 'orlando', 'yard', 'term', 'hero', 'entry', 'sa', 'sending', 'square', 'awsome', 'italian', 'request', 'positive', 'important', 'pie', 'typing', 'letter', 'thankyou', 'terminator', 'market', 'hiding', 'selling', 'comp', 'zombie', 'booked', 'glorious', 'missin', 'across', 'grow', 'item', 'difference', 'hole', 'rehearsal', 'adam', 'floor', 'muffin', 'kitty', 'pray', 'river', 'scratch', 'yawn', 'besides', 'november', 'detail', 'grocery', 'makin', 'nerd', 'feelin', 'dave', 'wide', 'jesus', 'bear', 'smoke', 'umm', 'msn', 'kelly', 'itchy', 'depressed', 'hide', 'loss', 'indian', 'de', 'princess', 'prob', 'tweeter', 'certain', 'harder', 'pro', 'double', 'busted', 'artist', 'remind', 'prayer', 'celebrating', 'grr', 'everywhere', 'performance', 'gd', 'situation', 'breath', 'hay', 'sport', 'justin', 'product', 'decision', 'knight', 'relationship', 'laughed', 'jet', 'parking', 'funeral', 'surprised', 'certainly', 'bestie', 'tree', 'mission', 'falling', 'med', 'hon', 'neither', 'project', 'everytime', 'allergic', 'drag', 'asap', 'pulled', 'muscle', 'gona', 'taco', 'yellow', 'cloudy', 'boot', 'woken', 'dirty', 'talkin', 'suffering', 'sam', 'host', 'belly', 'basketball', 'holding', 'snap', 'plenty', 'soccer', 'ï', 'cali', 'toe', 'er', 'shine', 'caught', 'sum', 'area', 'customer', 'apart', 'amount', 'max', 'insane', 'butter', 'paris', 'data', 'china', 'proper', 'grandma', 'record', 'launch', 'action', 'wasnt', 'dis', 'nothin', 'yoga', 'effect', 'released', 'vega', 'sounded', 'unless', 'commercial', 'similar', 'shake', 'woop', 'option', 'hating', 'chemistry', 'teaching', 'brought', 'heck', 'bringing', 'stink', 'outfit', 'invited', 'layout', 'dallas', 'honestly', 'push', 'pure', 'pill', 'joined', 'msg', 'gutted', 'gah', 'darling', 'tommorow', 'jess', 'drew', 'lead', 'truth', 'studio', 'ew', 'available', 'appointment', 'chick', 'jump', 'war', 'xxxx', 'virus', 'ordered', 'fake', 'finishing', 'mcfly', 'act', 'hockey', 'catching', 'productive', 'corner', 'general', 'surgery', 'cheap', 'san', 'snow', 'ground', 'reach', 'law', 'packed', 'grown', 'url', 'technology', 'noo', 'sandwich', 'allergy', 'uploading', 'laughing', 'pleased', 'tear', 'tire', 'file', 'vid', 'scary', 'brings', 'burger', 'several', 'ex', 'yey', 'lay', 'born', 'gf', 'à', 'speed', 'woot', 'bee', 'someday', 'solo', 'status', 'shooting', 'dish', 'based', 'insomnia', 'server', 'makeup', 'tmrw', 'anybody', 'managed', 'swimming', 'picking', 'mag', 'program', 'testing', 'written', 'steak', 'messed', 'lyric', 'created', 'straight', 'beyond', 'diversity', 'jay', 'arent', 'bull', 'bgt', 'crew', 'realised', 'en', 'mode', 'regular', 'paul', 'jason', 'showed', 'nephew', 'creepy', 'singer', 'recording', 'screw', 'haircut', 'paying', 'classic', 'manage', 'sauce', 'edit', 'eaten', 'becoming', 'tennis', 'contract', 'cam', 'source', 'anytime', 'pig', 'bk', 'heaven', 'delete', 'wood', 'application', 'duck', 'rofl', 'swift', 'golden', 'opportunity', 'attempt', 'ì', 'journey', 'stoked', 'hw', 'crush', 'coursework', 'josh', 'thumb', 'rite', 'sniff', 'quiz', 'sm', 'recommend', 'switch', 'ughhh', 'survive', 'cutting', 'ko', 'jacket', 'yayy', 'amy', 'iran', 'level', 'nooooo', 'awwwww', 'metro', 'noon', 'ã', 'mary', 'kevin', 'garage', 'express', 'acting', 'thunderstorm', 'compliment']\n"
     ]
    }
   ],
   "source": [
    "#177 features is kinda weak\n",
    "#let's try using much more and see the difference in result\n",
    "wordList = list(limitWordCounter(allWordCounter_sampled_nostop, 50))\n",
    "print(len(wordList))\n",
    "print(wordList)"
   ]
  },
  {
   "cell_type": "code",
   "execution_count": 61,
   "metadata": {},
   "outputs": [
    {
     "name": "stdout",
     "output_type": "stream",
     "text": [
      "(157863, 2427)\n"
     ]
    }
   ],
   "source": [
    "X = []\n",
    "for tokens in lemmatizedTokens:\n",
    "    row = [tokens.count(w) for w in wordList]\n",
    "    X.append(row)\n",
    "\n",
    "X = np.array(X)\n",
    "print(X.shape)"
   ]
  },
  {
   "cell_type": "code",
   "execution_count": 62,
   "metadata": {},
   "outputs": [
    {
     "name": "stdout",
     "output_type": "stream",
     "text": [
      "Train on 105768 samples, validate on 52095 samples\n",
      "Epoch 1/5\n",
      " - 151s - loss: 0.5334 - acc: 0.7358 - val_loss: 0.5163 - val_acc: 0.7468\n",
      "Epoch 2/5\n",
      " - 133s - loss: 0.4531 - acc: 0.7871 - val_loss: 0.5290 - val_acc: 0.7476\n",
      "Epoch 3/5\n",
      " - 131s - loss: 0.3312 - acc: 0.8558 - val_loss: 0.6011 - val_acc: 0.7360\n",
      "Epoch 4/5\n",
      " - 131s - loss: 0.1795 - acc: 0.9290 - val_loss: 0.7307 - val_acc: 0.7337\n",
      "Epoch 5/5\n",
      " - 131s - loss: 0.1113 - acc: 0.9562 - val_loss: 0.8614 - val_acc: 0.7313\n"
     ]
    },
    {
     "data": {
      "text/plain": [
       "<keras.callbacks.History at 0x21c4f8a7ef0>"
      ]
     },
     "execution_count": 62,
     "metadata": {},
     "output_type": "execute_result"
    }
   ],
   "source": [
    "num_features = X.shape[1]\n",
    "\n",
    "model = Sequential()\n",
    "#add the first hidden layer\n",
    "model.add(Dense(num_features, activation='relu', input_dim=num_features,\n",
    "               kernel_initializer='normal'))\n",
    "\n",
    "#add the output layer\n",
    "model.add(Dense(2, activation='softmax', kernel_initializer='normal'))\n",
    "\n",
    "#compile the model\n",
    "model.compile(optimizer='adam', loss='categorical_crossentropy',\n",
    "             metrics=['accuracy'])\n",
    "\n",
    "#try to fit the model and see the result\n",
    "validationSplit = 0.33\n",
    "batchSize = 100\n",
    "\n",
    "model.fit(X, y, validation_split=validationSplit,\n",
    "         batch_size=batchSize, epochs=5, verbose=2)\n",
    "\n",
    "#it's definitely better. \n",
    "#we can reach over 95% model accuracy and 73% validation accuracy "
   ]
  },
  {
   "cell_type": "code",
   "execution_count": 63,
   "metadata": {},
   "outputs": [
    {
     "name": "stdout",
     "output_type": "stream",
     "text": [
      "Train on 105768 samples, validate on 52095 samples\n",
      "Epoch 1/20\n",
      " - 127s - loss: 0.0870 - acc: 0.9649 - val_loss: 0.9674 - val_acc: 0.7301\n",
      "Epoch 2/20\n",
      " - 130s - loss: 0.0771 - acc: 0.9679 - val_loss: 1.0176 - val_acc: 0.7296\n",
      "Epoch 3/20\n",
      " - 131s - loss: 0.0714 - acc: 0.9700 - val_loss: 1.0784 - val_acc: 0.7321\n"
     ]
    },
    {
     "data": {
      "text/plain": [
       "<keras.callbacks.History at 0x21c4f7e95c0>"
      ]
     },
     "execution_count": 63,
     "metadata": {},
     "output_type": "execute_result"
    }
   ],
   "source": [
    "#we can use early stopping to prevent declining accuracy\n",
    "from keras.callbacks import EarlyStopping\n",
    "\n",
    "model = Sequential()\n",
    "#add the first hidden layer\n",
    "model.add(Dense(num_features, activation='relu', input_dim=num_features,\n",
    "               kernel_initializer='normal'))\n",
    "\n",
    "#add the output layer\n",
    "model.add(Dense(2, activation='softmax', kernel_initializer='normal'))\n",
    "\n",
    "#compile the model\n",
    "model.compile(optimizer='adam', loss='categorical_crossentropy',\n",
    "             metrics=['accuracy'])\n",
    "\n",
    "model.fit(X, y, validation_split=validationSplit,\n",
    "         batch_size=batchSize, epochs=20, verbose=2,\n",
    "         callbacks=[EarlyStopping(patience=2)])"
   ]
  },
  {
   "cell_type": "code",
   "execution_count": 6,
   "metadata": {},
   "outputs": [],
   "source": [
    "#After second thought, maybe we should try with simpler model\n",
    "#such as Naive Bayes\n",
    "\n",
    "#let's try to use the whole data\n",
    "#see if my computer works\n",
    "X = df.SentimentText\n",
    "y = df.Sentiment\n",
    "\n",
    "from sklearn.model_selection import train_test_split\n",
    "\n",
    "seed = 42\n",
    "\n",
    "X_train, X_test, y_train, y_test = train_test_split(X, y, test_size=0.3, random_state=seed)"
   ]
  },
  {
   "cell_type": "code",
   "execution_count": 7,
   "metadata": {},
   "outputs": [],
   "source": [
    "#try using simple count vectorizer with English stop words\n",
    "from sklearn.feature_extraction.text import CountVectorizer\n",
    "countVec = CountVectorizer(stop_words='english')\n",
    "\n",
    "#select only the best features\n",
    "from sklearn.feature_selection import chi2, SelectKBest\n",
    "\n",
    "chi_k = 1000\n",
    "selectKBest = SelectKBest(chi2, chi_k)\n",
    "\n",
    "#as classifier let's try using naive bayes\n",
    "from sklearn.naive_bayes import MultinomialNB\n",
    "\n",
    "alpha = 0.3\n",
    "clf = MultinomialNB(alpha=alpha)\n",
    "\n",
    "#fit all of the steps in a pipeline\n",
    "from sklearn.pipeline import Pipeline\n",
    "\n",
    "pl = Pipeline([('vectorizer', countVec), ('dim_red', selectKBest), ('clf', clf)])"
   ]
  },
  {
   "cell_type": "code",
   "execution_count": 8,
   "metadata": {},
   "outputs": [
    {
     "data": {
      "text/plain": [
       "Pipeline(memory=None,\n",
       "     steps=[('vectorizer', CountVectorizer(analyzer='word', binary=False, decode_error='strict',\n",
       "        dtype=<class 'numpy.int64'>, encoding='utf-8', input='content',\n",
       "        lowercase=True, max_df=1.0, max_features=None, min_df=1,\n",
       "        ngram_range=(1, 1), preprocessor=None, stop_words='english',\n",
       "  ... chi2 at 0x0000021BC28DBD08>)), ('clf', MultinomialNB(alpha=0.3, class_prior=None, fit_prior=True))])"
      ]
     },
     "execution_count": 8,
     "metadata": {},
     "output_type": "execute_result"
    }
   ],
   "source": [
    "#fit the data\n",
    "pl.fit(X_train, y_train)"
   ]
  },
  {
   "cell_type": "code",
   "execution_count": 9,
   "metadata": {},
   "outputs": [
    {
     "name": "stdout",
     "output_type": "stream",
     "text": [
      "0.7450384193889639\n"
     ]
    }
   ],
   "source": [
    "from sklearn import metrics\n",
    "\n",
    "pred = pl.predict(X_test)\n",
    "print(metrics.accuracy_score(y_test, pred))\n",
    "\n",
    "#we got almost 75% acc with this very simple model"
   ]
  },
  {
   "cell_type": "code",
   "execution_count": 149,
   "metadata": {},
   "outputs": [
    {
     "name": "stdout",
     "output_type": "stream",
     "text": [
      "[k: 1500] score: 0.7503679350660594\n",
      "[k: 2000] score: 0.7539364301113413\n",
      "[k: 3000] score: 0.7565188380642287\n",
      "[k: 5000] score: 0.7597262605339229\n"
     ]
    }
   ],
   "source": [
    "#let's try tuning some hyper parameters\n",
    "\n",
    "chi_ks = [1500, 2000, 3000, 5000]\n",
    "for k in chi_ks:\n",
    "    selectKBest = SelectKBest(chi2, k)\n",
    "    pl = Pipeline([('vectorizer', countVec), ('dim_red', selectKBest), ('clf', clf)])\n",
    "    #fit the data\n",
    "    pl.fit(X_train, y_train)\n",
    "    pred = pl.predict(X_test)\n",
    "    acc = metrics.accuracy_score(y_test, pred)\n",
    "    \n",
    "    print('[k: {}] score: {}'.format(k, acc))"
   ]
  },
  {
   "cell_type": "code",
   "execution_count": 10,
   "metadata": {},
   "outputs": [
    {
     "name": "stdout",
     "output_type": "stream",
     "text": [
      "[k: none] score: 0.7607376860526743\n"
     ]
    }
   ],
   "source": [
    "#well it improves the result, however barely\n",
    "#I think I'm gonna try without dimension reduction\n",
    "pl = Pipeline([('vectorizer', countVec), ('clf', clf)])\n",
    "#fit the data\n",
    "pl.fit(X_train, y_train)\n",
    "pred = pl.predict(X_test)\n",
    "acc = metrics.accuracy_score(y_test, pred)\n",
    "\n",
    "print('[k: {}] score: {}'.format('none', acc))\n",
    "\n",
    "#well, it's actually better and not that slow\n",
    "#so we don't need to use dim_red for this model"
   ]
  },
  {
   "cell_type": "code",
   "execution_count": 12,
   "metadata": {},
   "outputs": [
    {
     "name": "stdout",
     "output_type": "stream",
     "text": [
      "[alpha: 0.1] score: 0.7543587372172917\n",
      "[alpha: 0.3] score: 0.7607376860526743\n",
      "[alpha: 0.5] score: 0.7634932399190015\n",
      "[alpha: 0.7] score: 0.7650958953860837\n",
      "[alpha: 1] score: 0.7664430550540658\n"
     ]
    }
   ],
   "source": [
    "#let's tune alpha now\n",
    "alphas = [0.1, 0.3, 0.5, 0.7, 1]\n",
    "for alpha in alphas:\n",
    "    clf = MultinomialNB(alpha=alpha)\n",
    "    pl = Pipeline([('vectorizer', countVec), ('clf', clf)])\n",
    "    #fit the data\n",
    "    pl.fit(X_train, y_train)\n",
    "    pred = pl.predict(X_test)\n",
    "    acc = metrics.accuracy_score(y_test, pred)\n",
    "    \n",
    "    print('[alpha: {}] score: {}'.format(alpha, acc))"
   ]
  },
  {
   "cell_type": "code",
   "execution_count": 14,
   "metadata": {},
   "outputs": [
    {
     "name": "stdout",
     "output_type": "stream",
     "text": [
      "[classifier: logistic regression] score: 0.7774884974102017\n",
      "[classifier: random forest] score: 0.6956242649216937\n"
     ]
    }
   ],
   "source": [
    "#alpha=1 apparently has the best result\n",
    "#what if we use different model\n",
    "\n",
    "from sklearn.linear_model import LogisticRegression\n",
    "clf = LogisticRegression()\n",
    "pl = Pipeline([('vectorizer', countVec), ('clf', clf)])\n",
    "pl.fit(X_train, y_train)\n",
    "pred = pl.predict(X_test)\n",
    "acc = metrics.accuracy_score(y_test, pred)\n",
    "print('[classifier: {}] score: {}'.format('logistic regression', acc))\n",
    "\n",
    "from sklearn.ensemble import RandomForestClassifier\n",
    "clf = RandomForestClassifier(n_estimators=100, max_depth=10, random_state=seed)\n",
    "pl = Pipeline([('vectorizer', countVec), ('clf', clf)])\n",
    "pl.fit(X_train, y_train)\n",
    "pred = pl.predict(X_test)\n",
    "acc = metrics.accuracy_score(y_test, pred)\n",
    "print('[classifier: {}] score: {}'.format('random forest', acc))\n",
    "\n",
    "#KNeighbors and SVM are too slow, so never mind"
   ]
  },
  {
   "cell_type": "code",
   "execution_count": 67,
   "metadata": {},
   "outputs": [
    {
     "name": "stdout",
     "output_type": "stream",
     "text": [
      "[classifier: logistic regression] score: 0.7774884974102017\n",
      "[[179469  56810]\n",
      " [ 48569 188741]]\n",
      "             precision    recall  f1-score   support\n",
      "\n",
      "          0       0.79      0.76      0.77    236279\n",
      "          1       0.77      0.80      0.78    237310\n",
      "\n",
      "avg / total       0.78      0.78      0.78    473589\n",
      "\n"
     ]
    }
   ],
   "source": [
    "#let's see the confusion matrix of the logistic regression result\n",
    "clf = LogisticRegression()\n",
    "pl = Pipeline([('vectorizer', countVec), ('clf', clf)])\n",
    "pl.fit(X_train, y_train)\n",
    "pred = pl.predict(X_test)\n",
    "\n",
    "acc = metrics.accuracy_score(y_test, pred)\n",
    "print('[classifier: {}] score: {}'.format('logistic regression', acc))\n",
    "print(metrics.confusion_matrix(y_test, pred))\n",
    "print(metrics.classification_report(y_test, pred))\n",
    "\n",
    "#the precision and recall seem quite good as well!"
   ]
  },
  {
   "cell_type": "code",
   "execution_count": null,
   "metadata": {},
   "outputs": [],
   "source": [
    "r'''\n",
    "Final Conclusion:\n",
    "- I tried using simple deep and supervised learning model\n",
    "- For deep learning, I only utilized 10% of the data (because of memory limitation)\n",
    "- The validation result is ~73%\n",
    "- In the end, the best result was shown by simple logistic regression with count vectorizer with ~77% on test data\n",
    "\n",
    "Things that can be done to improve accuracy:\n",
    "- in general, we must improve our features selection\n",
    "- exclude more irrelevant words (e.g. by using more complete stop words)\n",
    "- add more context, e.g. by taking punctuations (like more !!!! means that it has stronger weight), \n",
    "  lower and upper case, etc. into accounts\n",
    "- I'm not 100% sure if they are all in English, since I found some foreign alphabets in there, \n",
    "  so deeper analysis can be beneficial as well, e.g. using polyglot library or just remove non-english words altogether\n",
    "- build a more sophisticated model that might work better in this case, but I believe preprocessing techniques are more important\n",
    "'''"
   ]
  }
 ],
 "metadata": {
  "kernelspec": {
   "display_name": "Python 3",
   "language": "python",
   "name": "python3"
  },
  "language_info": {
   "codemirror_mode": {
    "name": "ipython",
    "version": 3
   },
   "file_extension": ".py",
   "mimetype": "text/x-python",
   "name": "python",
   "nbconvert_exporter": "python",
   "pygments_lexer": "ipython3",
   "version": "3.6.6"
  },
  "widgets": {
   "application/vnd.jupyter.widget-state+json": {
    "state": {},
    "version_major": 2,
    "version_minor": 0
   }
  }
 },
 "nbformat": 4,
 "nbformat_minor": 2
}
